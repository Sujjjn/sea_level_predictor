{
 "cells": [
  {
   "cell_type": "code",
   "execution_count": null,
   "id": "9a68d4da",
   "metadata": {},
   "outputs": [],
   "source": [
    "# This entrypoint file to be used in development. Start by reading README.md\n",
    "import sea_level_predictor\n",
    "from unittest import main\n",
    "\n",
    "# Test your function by calling it here\n",
    "sea_level_predictor.draw_plot()\n",
    "\n",
    "# Run unit tests automatically\n",
    "main(module='test_module', exit=False)"
   ]
  }
 ],
 "metadata": {
  "kernelspec": {
   "display_name": "Python 3 (ipykernel)",
   "language": "python",
   "name": "python3"
  },
  "language_info": {
   "codemirror_mode": {
    "name": "ipython",
    "version": 3
   },
   "file_extension": ".py",
   "mimetype": "text/x-python",
   "name": "python",
   "nbconvert_exporter": "python",
   "pygments_lexer": "ipython3",
   "version": "3.11.5"
  }
 },
 "nbformat": 4,
 "nbformat_minor": 5
}
