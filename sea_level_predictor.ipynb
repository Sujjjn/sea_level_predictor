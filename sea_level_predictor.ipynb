{
 "cells": [
  {
   "cell_type": "code",
   "execution_count": null,
   "id": "f0260080",
   "metadata": {},
   "outputs": [],
   "source": [
    "import pandas as pd\n",
    "import matplotlib.pyplot as plt\n",
    "from scipy.stats import linregress\n",
    "\n",
    "def draw_plot():\n",
    "    # Read data from file\n",
    "    df = pd.read_csv(\"epa-sea-level.csv\")\n",
    "\n",
    "    # Create scatter plot\n",
    "    plt.scatter(df['Year'], df['CSIRO Adjusted Sea Level'])\n",
    "\n",
    "    # Create first line of best fit\n",
    "    lineA = linregress(df['Year'], df['CSIRO Adjusted Sea Level'])\n",
    "    xA = np.arange(df['Year'].min(),2050,1)\n",
    "    yA = xA*lineA.slope + lineA.intercept\n",
    "\n",
    "    plt.plot(xA,yA)\n",
    "\n",
    "    # Create second line of best fit\n",
    "    df_2000 = df[df['Year'] >= 2000]\n",
    "\n",
    "    lineB = linregress(df_2000['Year'], df_2000['CSIRO Adjusted Sea Level'])\n",
    "    xB = np.arange(2000,2050,1)\n",
    "    yB = xB*lineB.slope + lineB.intercept\n",
    "\n",
    "    plt.plot(xB,yB)\n",
    "\n",
    "    # Add labels and title\n",
    "    plt.xlabel('Year')\n",
    "    plt.ylabel('Sea Level (inches)')\n",
    "    plt.title('Rise in Sea Level')\n",
    "    \n",
    "    # Save plot and return data for testing (DO NOT MODIFY)\n",
    "    plt.savefig('sea_level_plot.png')\n",
    "    return plt.gca()"
   ]
  }
 ],
 "metadata": {
  "kernelspec": {
   "display_name": "Python 3 (ipykernel)",
   "language": "python",
   "name": "python3"
  },
  "language_info": {
   "codemirror_mode": {
    "name": "ipython",
    "version": 3
   },
   "file_extension": ".py",
   "mimetype": "text/x-python",
   "name": "python",
   "nbconvert_exporter": "python",
   "pygments_lexer": "ipython3",
   "version": "3.11.5"
  }
 },
 "nbformat": 4,
 "nbformat_minor": 5
}
